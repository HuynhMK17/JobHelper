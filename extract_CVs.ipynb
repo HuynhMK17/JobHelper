{
 "cells": [
  {
   "cell_type": "code",
   "execution_count": 1,
   "metadata": {},
   "outputs": [],
   "source": [
    "from dotenv import load_dotenv\n",
    "from langchain_groq import ChatGroq\n",
    "import dotenv\n",
    "import os"
   ]
  },
  {
   "cell_type": "code",
   "execution_count": 2,
   "metadata": {},
   "outputs": [],
   "source": [
    "load_dotenv()\n",
    "LLAMA_3_API_KEY = os.getenv(\"LLAMA_3_API_KEY\")"
   ]
  },
  {
   "cell_type": "code",
   "execution_count": 3,
   "metadata": {},
   "outputs": [
    {
     "name": "stderr",
     "output_type": "stream",
     "text": [
      "f:\\Năm 3 - HK1\\DoAnCS311\\venv\\Lib\\site-packages\\langchain_groq\\chat_models.py:362: UserWarning: WARNING! seed is not default parameter.\n",
      "                    seed was transferred to model_kwargs.\n",
      "                    Please confirm that seed is what you intended.\n",
      "  warnings.warn(\n"
     ]
    }
   ],
   "source": [
    "llm = ChatGroq(\n",
    "    temperature=0,\n",
    "    groq_api_key=LLAMA_3_API_KEY,\n",
    "    model_name=\"llama-3.1-70b-versatile\",\n",
    "    seed=42  # Đặt seed để đảm bảo kết quả luôn giống nhau\n",
    ")"
   ]
  },
  {
   "cell_type": "code",
   "execution_count": 25,
   "metadata": {},
   "outputs": [],
   "source": [
    "from pydantic import BaseModel, Field, EmailStr, field_validator\n",
    "from typing import List, Optional\n",
    "from datetime import date\n",
    "\n",
    "# ForgivingDate model with date validation\n",
    "class ForgivingDate(BaseModel):\n",
    "    day: int\n",
    "    month: int\n",
    "    year: int\n",
    "\n",
    "    @field_validator('day')\n",
    "    def day_validator(cls, v):\n",
    "        if v == None:\n",
    "            v = None\n",
    "        if v > 31 or v < 0:\n",
    "            raise ValueError(\"Day not in range\")\n",
    "        return v\n",
    "\n",
    "    @field_validator('month')\n",
    "    def month_validator(cls, v):\n",
    "        if v == None:\n",
    "            v = None\n",
    "            \n",
    "        if v > 12 or v < 0:\n",
    "            raise ValueError(\"Month not in range\")\n",
    "    \n",
    "        return v\n",
    "\n",
    "# Contact model with email validation\n",
    "class Contact(BaseModel):\n",
    "    name: str\n",
    "    phone_number: str\n",
    "    email: Optional[str] = Field(None, description=\"Email address\")\n",
    "    linkedin: str\n",
    "    location: str = Field(\n",
    "        default_factory=str,\n",
    "        description=\"Complete street address wherever possible.\"\n",
    "    )\n",
    "\n",
    "class Role(BaseModel):\n",
    "    name: str = Field(description=\"The position the candidate is applying for\")\n",
    "    num_experience: float = Field(description='Years of experience deducted from the (number of days between the dates)/365 in title \"Kinh nghiệm\"')\n",
    "\n",
    "# # DateRange model containing start and end dates\n",
    "# class DateRange(BaseModel):\n",
    "#     start: ForgivingDate\n",
    "#     end: ForgivingDate = Field(description=\"Date of the end\", default=ForgivingDate(day=date.today().day, month=date.today().month, year=date.today().year))\n",
    "\n",
    "# Skills model with various fields for skills information\n",
    "# class Skills(BaseModel):\n",
    "#     name: str = Field(description=\"Extract the technical tools in the following text. Technical tools are generally in 2-3 words\")\n",
    "\n",
    "# class Major(BaseModel):\n",
    "#     name: str = Field(description=\"The major of the candidate\")\n",
    "\n",
    "# # Experience model containing details about work experiences\n",
    "# class Experience(BaseModel):\n",
    "#     dates: DateRange\n",
    "#     title: str = Field(description=\"Title of the role\")\n",
    "#     num_experience: float = Field(description='Years of experience deducted from the (number of days between the dates)/365')\n",
    "#     company: str = Field(description=\"The employer\")\n",
    "#     skills: List[Skills]\n",
    "#     description: str = Field(description=\"Detailed description of the experience\")\n",
    "\n",
    "# Education model for education details\n",
    "# class Education(BaseModel):\n",
    "#     college: str = Field(description='Institution from which the person received their degree')\n",
    "#     dates: DateRange\n",
    "\n",
    "# Project model to capture project details\n",
    "# class Project(BaseModel):\n",
    "#     dates: DateRange\n",
    "#     title: str = Field(description=\"Title of the role\")\n",
    "#     num_experience: float = Field(description='Years of experience deducted from the (number of days between the dates)/365')\n",
    "#     name_project: str = Field(description=\"Name of the project\")\n",
    "#     skills: List[Skills]\n",
    "#     description: str = Field(description=\"Detailed description of the project\")\n",
    "\n",
    "# class CertificateAward(BaseModel):\n",
    "#     name: str = Field(description=\"The name of the certificate or award\")\n",
    "#     issuing_organization: str = Field(description=\"The organization that issued the certificate or award\")\n",
    "\n",
    "\n",
    "# Candidate model containing all information about the candidate\n",
    "class Candidate(BaseModel):\n",
    "    contact: Contact\n",
    "    role: List[Role] = Field(description=\"The position the candidate is applying for\")\n",
    "    language: List[str] = Field(description=\"The spoken/written language\")\n",
    "    skills: List[str] = Field(description=\"Extract the technical tools in the following text. Technical tools are generally in 2-3 words\")\n",
    "    major: List[str] = Field(description=\"The major of the candidate\")    \n",
    "    # programming_language: List[str] = Field(description=\"The programming language\")\n",
    "    # language: List[str] = Field(description=\"The spoken/written language\")\n",
    "    # tool: List[str] = Field(description=\"Technical tool, generally in 2-3 words.\")\n",
    "    # soft_skills: List[str] = Field(description=\"Name of the soft skills\")\n",
    "    \n",
    "    # education: List[Education]\n",
    "    # experience: List[Experience]\n",
    "    # projects: List[Project]\n",
    "    \n",
    "    # certificates: List[CertificateAward]"
   ]
  },
  {
   "cell_type": "code",
   "execution_count": 26,
   "metadata": {},
   "outputs": [],
   "source": [
    "from langchain_core.output_parsers import JsonOutputParser\n",
    "from langchain_core.prompts import PromptTemplate\n",
    "\n",
    "# Set up a parser + inject instructions into the prompt template.\n",
    "parser = JsonOutputParser(pydantic_object=Candidate)\n",
    "\n",
    "prompt = PromptTemplate(\n",
    "    template=\"\"\"Extract the following structured information from the provided CV text. If information is missing, leave it blank. \n",
    "    \\n{format_instructions}\\n{query}\\n\"\"\",\n",
    "     input_variables=[\"query\"],\n",
    "     partial_variables={\"format_instructions\": parser.get_format_instructions()},\n",
    ")\n",
    "\n",
    "chain = prompt | llm | parser"
   ]
  },
  {
   "cell_type": "code",
   "execution_count": 27,
   "metadata": {},
   "outputs": [],
   "source": [
    "from underthesea import text_normalize\n",
    "def normalize(text):\n",
    "    text = text.replace(\"\\n\", \" \")\n",
    "    text = text.replace(\"\\r\", \" \")\n",
    "    text = text.replace(\"\\t\", \" \")\n",
    "    text = text_normalize(text)\n",
    "\n",
    "    return text"
   ]
  },
  {
   "cell_type": "code",
   "execution_count": 31,
   "metadata": {},
   "outputs": [],
   "source": [
    "from langchain_community.document_loaders import PyPDFLoader\n",
    "\n",
    "loader = PyPDFLoader(\n",
    "     r'F:\\Năm 3 - HK1\\DoAnCS311\\data\\Temp\\2.pdf'\n",
    ")\n",
    "pages = []\n",
    "text = \"\"\n",
    "for doc in loader.lazy_load():\n",
    "     pages.append(doc)\n",
    "     text += normalize(doc.page_content)\n"
   ]
  },
  {
   "cell_type": "code",
   "execution_count": 32,
   "metadata": {},
   "outputs": [
    {
     "data": {
      "text/plain": [
       "[Document(metadata={'source': 'F:\\\\Năm 3 - HK1\\\\DoAnCS311\\\\data\\\\Temp\\\\2.pdf', 'page': 0}, page_content='Truong Le Vinh Phuc\\nDi An, Binh Duong \\n• \\ntruonglevinhphuc2006@gmail.com \\n• \\n+84 367 855 090 \\n• \\nlinkedin.com/in/sloweyne\\ngithub.com/sloweyyy\\n \\n •  \\nslowey.works\\nSoftware Engineer with 1 year experience in React Native and Java for Android. Skilled in crafting user-centric mobile experiences and leveraging\\ncutting-edge technologies.\\nEDUCATION\\nSoftware Engineer\\nSep 2022 - Jun 2025\\nUNIVERSITY OF INFORMATION TECHNOLOGY Ho Chi Minh, Vietnam\\nGPA: \\n8.37/10\\nAchieved \"Excellent\" grade for Semester 2, Academic Year 2023-2024\\nAchieved \"Excellent\" grade for Semester 1, Academic Year 2023-2024\\nAchieved \"Excellent\" grade for Semester 2, Academic Year 2022-2023\\nAchieved \"Excellent\" grade for Semester 1, Academic Year 2022-2023\\nLANGUAGES\\nEnglish\\n \\n(Professional working proficiency)\\nSKILLS\\nSoftware Development:\\n \\nReact Native, Node.js, MySQL, MongoDB, Java Spring Boot, Android Development\\nTechnologies:\\n \\nFirebase, AWS, Docker, GitHub Actions, CI/CD Pipelines, Scrum\\nLanguage:\\n \\nJavaScript (React Native, Node.js), SQL (MySQL), NoSQL (MongoDB), C/C++, C#, Java, .NET Framework\\nSoft Skills:\\n \\nProblem-solving, communication, time management, collaboration, adaptability, attention to detail, critical thinking, creativity\\nWORK EXPERIENCE\\nGraphic Designer\\nJan 2024 - Present\\nUIT – INSECLAB\\nHo Chi Minh\\nDesigned and printed promotional materials for faculty initiatives and events, resulting in increased event attendance and engagement.\\nGraphic Designer\\nJul 2022 - Sep 2022\\nTHE BIG NEST F&B\\nHo Chi Minh, Vietnam\\nDeveloped marketing materials like brochures, flyers, and presentations, resulting in a 20% increase in customer engagement and brand\\nawareness.\\nCreated a detailed style guide that standardized the design and branding of all company materials, ensuring a consistent visual identity\\nacross all channels.\\nCollaborated with the marketing team to understand requirements and deliver high-quality designs that aligned with the company\\'s goals\\nand target audience.\\nCERTIFICATIONS\\nMaster Web & Mobile Design: Figma, UI/UX Essentials \\n \\nby \\nUdemy\\nAug 2024\\nGoogle Project Management \\n \\nby \\nGoogle\\nAug 2024\\nData Science Math Skills \\n \\nby \\nDuke Univeristy\\nJul 2024\\nFrontend Developer (React) Certificate \\n \\nby \\nHackerRank\\nJul 2024\\nSoftware Engineer Certificate \\n \\nby \\nHackerRank\\nJul 2024\\nGetting Started With Microservices \\n \\nby \\nLinkedin\\nJun 2024\\nComplete Guide To Apache Kafka For Beginners \\n \\nby \\nLinkedin\\nMay 2024\\nCareer Essentials In Github Professional Certificate \\n \\nby \\nLinkedin\\nMay 2024\\nSoftware Development Life Cycle (SLDC) \\n \\nby \\nLinkedin\\nMay 2024\\nCareer Essentials In Software Development By Microsoft And Linkedin \\n \\nby \\nLinkedin\\nMay 2024\\nAha! Product Management Professional Certificate \\n \\nby \\nLinkedin & Aha!\\nMay 2024\\nAgile Software Development \\n \\nby \\nLinkedin\\nMay 2024\\nAWS Essential Training For Developers \\n \\nby \\nLinkedin\\nMay 2024\\nCareer Essentials In Github Professional Certificate \\n \\nby \\nLinkedin\\nMay 2024\\nPROJECTS\\nCoffee Shops Management (Team project - Team size: 5 - Leader) \\nMar 2024 - Jun 2024\\nRole:\\n Frontend Developer, Backend Developer, Software Architect\\nTechnologies Used:\\n React Native, Node.js, MongoDB, Firebase\\nDescription:\\n Implemented user-friendly cashier, mobile-friendly user, and robust admin interfaces for order processing, payment\\nhandling, inventory management, menu browsing, order tracking, loyalty program features, user account management, promotions,\\nreports, and system settings.\\nT-Shirt and Tote Bag Design Platform Powered by AI (Team project - Team size: 5 - Leader) \\nMar 2024 - Jun 2024\\nRole:\\n Frontend Developer, Backend Developer, Software Architect\\nTechnologies Used:\\n React Native, Node.js, Firebase, Railway'),\n",
       " Document(metadata={'source': 'F:\\\\Năm 3 - HK1\\\\DoAnCS311\\\\data\\\\Temp\\\\2.pdf', 'page': 1}, page_content='Description:\\n Implemented an intuitive design tool for creating unique t-shirts and tote bags, developed AI-generated product features\\nusing Stable Diffusion API, built a robust e-commerce platform for listing creations, managing orders, and tracking sales, integrated with\\nreputable printing providers, and designed user-friendly interfaces for seamless navigation and smooth purchasing experience.\\nEmotion Detection Web App using AI (Personal project) \\nMar 2024 - May 2024\\nRole:\\n Full-stack Software Engineer, Machine Learning Developer\\nTechnologies Used:\\n Flask, React Native, OpenCV, TensorFlow\\nDescription:\\n Developed a web application using Python, machine learning, and HOG feature extraction to classify emotions (anger,\\nsadness, fear, happiness, neutral) from portrait images.\\nMulti-purpose App for Vietnamese Users (Team project - Team size: 4 - Leader) \\nOct 2023 - Jan 2024\\nRole:\\n Frontend Developer, Backend Developer, Software Architect\\nTechnologies Used:\\n WPF, C#, HTML, CSS, JavaScript, MongoDB, Vercel, Railway\\nDescription:\\n Integrated text-to-speech, face matching, real-time translation, and AI chatbot interaction for a comprehensive user-friendly\\nexperience. Designed intuitive interfaces focusing on ease of use and seamless navigation.\\nAWARDS\\nGDSC IDEA CONTEST 2023: THINK \\nby \\nGoogle Developer Student Club - HCMUT\\nJun 2023\\nAchieved Third Place in the GDSC IDEA CONTEST 2023 with \"FutureConnect,\" a platform designed to bridge the gap between students\\nand businesses.')]"
      ]
     },
     "execution_count": 32,
     "metadata": {},
     "output_type": "execute_result"
    }
   ],
   "source": [
    "pages"
   ]
  },
  {
   "cell_type": "code",
   "execution_count": 33,
   "metadata": {},
   "outputs": [
    {
     "data": {
      "text/plain": [
       "{'contact': {'name': 'Truong Le Vinh Phuc Di An',\n",
       "  'phone_number': '+84 367 855 090',\n",
       "  'email': 'truonglevinhphuc2006@gmail.com',\n",
       "  'linkedin': 'linkedin.com/in/sloweyne',\n",
       "  'location': 'Di An, Binh Duong'},\n",
       " 'role': [{'name': 'Software Engineer', 'num_experience': 1}],\n",
       " 'language': ['English'],\n",
       " 'skills': ['React Native',\n",
       "  'Node.js',\n",
       "  'MySQL',\n",
       "  'MongoDB',\n",
       "  'Java',\n",
       "  'Spring Boot',\n",
       "  'Android Development',\n",
       "  'Firebase',\n",
       "  'AWS',\n",
       "  'Docker',\n",
       "  'GitHub Actions',\n",
       "  'CI/CD Pipelines',\n",
       "  'Scrum',\n",
       "  'JavaScript',\n",
       "  'SQL',\n",
       "  'NoSQL',\n",
       "  'C/C++',\n",
       "  'C#',\n",
       "  '.NET Framework',\n",
       "  'Problem-solving',\n",
       "  'communication',\n",
       "  'time management',\n",
       "  'collaboration',\n",
       "  'adaptability',\n",
       "  'attention to detail',\n",
       "  'critical thinking',\n",
       "  'creativity'],\n",
       " 'major': ['Software Engineer']}"
      ]
     },
     "execution_count": 33,
     "metadata": {},
     "output_type": "execute_result"
    }
   ],
   "source": [
    "\n",
    "chain.invoke({\"query\":text})"
   ]
  },
  {
   "cell_type": "code",
   "execution_count": 9,
   "metadata": {},
   "outputs": [
    {
     "name": "stdout",
     "output_type": "stream",
     "text": [
      "Result saved to output.csv\n"
     ]
    }
   ],
   "source": [
    "import pandas as pd\n",
    "\n",
    "# Gọi chuỗi chain.invoke và lưu kết quả\n",
    "result = chain.invoke({\"query\": text})\n",
    "\n",
    "# Chuyển kết quả thành một DataFrame (giả sử kết quả là một từ điển hoặc chuỗi)\n",
    "if isinstance(result, dict):\n",
    "    df = pd.DataFrame([result])  # Nếu là dict, chuyển đổi sang DataFrame\n",
    "elif isinstance(result, str):\n",
    "    df = pd.DataFrame([{\"response\": result}])  # Nếu là chuỗi, gói trong một cột 'response'\n",
    "else:\n",
    "    raise ValueError(\"Result format not supported\")\n",
    "\n",
    "# Lưu vào tệp CSV\n",
    "output_file = \"output.csv\"\n",
    "df.to_csv(output_file, index=False, encoding='utf-8')\n",
    "\n",
    "print(f\"Result saved to {output_file}\")\n"
   ]
  }
 ],
 "metadata": {
  "kernelspec": {
   "display_name": "venv",
   "language": "python",
   "name": "python3"
  },
  "language_info": {
   "codemirror_mode": {
    "name": "ipython",
    "version": 3
   },
   "file_extension": ".py",
   "mimetype": "text/x-python",
   "name": "python",
   "nbconvert_exporter": "python",
   "pygments_lexer": "ipython3",
   "version": "3.11.9"
  }
 },
 "nbformat": 4,
 "nbformat_minor": 2
}
