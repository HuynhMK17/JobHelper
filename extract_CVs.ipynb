{
 "cells": [
  {
   "cell_type": "code",
   "execution_count": 2,
   "metadata": {},
   "outputs": [],
   "source": [
    "from dotenv import load_dotenv\n",
    "from langchain_groq import ChatGroq\n",
    "import dotenv\n",
    "import os"
   ]
  },
  {
   "cell_type": "code",
   "execution_count": 3,
   "metadata": {},
   "outputs": [],
   "source": [
    "load_dotenv()\n",
    "LLAMA_3_API_KEY = os.getenv(\"LLAMA_3_API_KEY\")"
   ]
  },
  {
   "cell_type": "code",
   "execution_count": 35,
   "metadata": {},
   "outputs": [
    {
     "name": "stderr",
     "output_type": "stream",
     "text": [
      "f:\\Năm 3 - HK1\\DoAnCS311\\venv\\Lib\\site-packages\\langchain_groq\\chat_models.py:362: UserWarning: WARNING! seed is not default parameter.\n",
      "                    seed was transferred to model_kwargs.\n",
      "                    Please confirm that seed is what you intended.\n",
      "  warnings.warn(\n"
     ]
    }
   ],
   "source": [
    "llm = ChatGroq(\n",
    "    temperature=0,\n",
    "    groq_api_key=LLAMA_3_API_KEY,\n",
    "    model_name=\"llama-3.1-70b-versatile\",\n",
    "    seed=42  # Đặt seed để đảm bảo kết quả luôn giống nhau\n",
    ")"
   ]
  },
  {
   "cell_type": "code",
   "execution_count": 84,
   "metadata": {},
   "outputs": [],
   "source": [
    "from pydantic import BaseModel, Field, EmailStr, field_validator\n",
    "from typing import List, Optional\n",
    "from datetime import date\n",
    "\n",
    "# ForgivingDate model with date validation\n",
    "class ForgivingDate(BaseModel):\n",
    "    day: int\n",
    "    month: int\n",
    "    year: int\n",
    "\n",
    "    @field_validator('day')\n",
    "    def day_validator(cls, v):\n",
    "        if v == None:\n",
    "            v = None\n",
    "        if v > 31 or v < 0:\n",
    "            raise ValueError(\"Day not in range\")\n",
    "        return v\n",
    "\n",
    "    @field_validator('month')\n",
    "    def month_validator(cls, v):\n",
    "        if v == None:\n",
    "            v = None\n",
    "            \n",
    "        if v > 12 or v < 0:\n",
    "            raise ValueError(\"Month not in range\")\n",
    "    \n",
    "        return v\n",
    "\n",
    "# Contact model with email validation\n",
    "class Contact(BaseModel):\n",
    "    name: str\n",
    "    phone_number: str\n",
    "    email: Optional[str] = Field(None, description=\"Email address\")\n",
    "    linkedin: str\n",
    "    location: str = Field(\n",
    "        default_factory=str,\n",
    "        description=\"Complete street address wherever possible.\"\n",
    "    )\n",
    "\n",
    "# DateRange model containing start and end dates\n",
    "class DateRange(BaseModel):\n",
    "    start: ForgivingDate\n",
    "    end: ForgivingDate = Field(description=\"Date of the end\", default=ForgivingDate(day=date.today().day, month=date.today().month, year=date.today().year))\n",
    "\n",
    "# Skills model with various fields for skills information\n",
    "class Skills(BaseModel):\n",
    "    name: str = Field(description=\"Extract the technical tools in the following text. Technical tools are generally in 2-3 words\")\n",
    "\n",
    "# Experience model containing details about work experiences\n",
    "class Experience(BaseModel):\n",
    "    dates: DateRange\n",
    "    title: str = Field(description=\"Title of the role\")\n",
    "    num_experience: float = Field(description='Years of experience deducted from the (number of days between the dates)/365')\n",
    "    company: str = Field(description=\"The employer\")\n",
    "    skills: List[Skills]\n",
    "    description: str = Field(description=\"Detailed description of the experience\")\n",
    "\n",
    "# Education model for education details\n",
    "class Education(BaseModel):\n",
    "    college: str = Field(description='Institution from which the person received their degree')\n",
    "    dates: DateRange\n",
    "\n",
    "# Project model to capture project details\n",
    "class Project(BaseModel):\n",
    "    dates: DateRange\n",
    "    title: str = Field(description=\"Title of the role\")\n",
    "    num_experience: float = Field(description='Years of experience deducted from the (number of days between the dates)/365')\n",
    "    name_project: str = Field(description=\"Name of the project\")\n",
    "    skills: List[Skills]\n",
    "    description: str = Field(description=\"Detailed description of the project\")\n",
    "\n",
    "# class CertificateAward(BaseModel):\n",
    "#     name: str = Field(description=\"The name of the certificate or award\")\n",
    "#     issuing_organization: str = Field(description=\"The organization that issued the certificate or award\")\n",
    "\n",
    "\n",
    "# Candidate model containing all information about the candidate\n",
    "class Candidate(BaseModel):\n",
    "    contact: Contact\n",
    "    \n",
    "    programming_language: List[str] = Field(description=\"The programming language\")\n",
    "    language: List[str] = Field(description=\"The spoken/written language\")\n",
    "    tool: List[str] = Field(description=\"Technical tool, generally in 2-3 words.\")\n",
    "    soft_skills: List[str] = Field(description=\"Name of the soft skills\")\n",
    "    \n",
    "    # education: List[Education]\n",
    "    experience: List[Experience]\n",
    "    projects: List[Project]\n",
    "    \n",
    "    # certificates: List[CertificateAward]"
   ]
  },
  {
   "cell_type": "code",
   "execution_count": 85,
   "metadata": {},
   "outputs": [],
   "source": [
    "from langchain_core.output_parsers import JsonOutputParser\n",
    "from langchain_core.prompts import PromptTemplate\n",
    "\n",
    "# Set up a parser + inject instructions into the prompt template.\n",
    "parser = JsonOutputParser(pydantic_object=Candidate)\n",
    "\n",
    "prompt = PromptTemplate(\n",
    "    template=\"\"\"Extract the following structured information from the provided CV text. If information is missing, leave it blank. \n",
    "    \\n{format_instructions}\\n{query}\\n\"\"\",\n",
    "     input_variables=[\"query\"],\n",
    "     partial_variables={\"format_instructions\": parser.get_format_instructions()},\n",
    ")\n",
    "\n",
    "chain = prompt | llm | parser"
   ]
  },
  {
   "cell_type": "code",
   "execution_count": 86,
   "metadata": {},
   "outputs": [
    {
     "name": "stderr",
     "output_type": "stream",
     "text": [
      "invalid pdf header: b'\\n%PDF'\n"
     ]
    }
   ],
   "source": [
    "from langchain_community.document_loaders import PyPDFLoader\n",
    "\n",
    "loader = PyPDFLoader(\n",
    "     r'F:\\Năm 3 - HK1\\DoAnCS311\\data\\CVs\\5.pdf'\n",
    ")\n",
    "pages = []\n",
    "text = \"\"\n",
    "for doc in loader.lazy_load():\n",
    "     pages.append(doc)\n",
    "     text += doc.page_content\n"
   ]
  },
  {
   "cell_type": "code",
   "execution_count": 87,
   "metadata": {},
   "outputs": [
    {
     "data": {
      "text/plain": [
       "[Document(metadata={'source': 'F:\\\\Năm 3 - HK1\\\\DoAnCS311\\\\data\\\\CVs\\\\5.pdf', 'page': 0}, page_content='User 1\\nAI ENGINEER\\nTHÔNG TIN CÁ NHÂN\\n\\ue11b 0935023456\\n✉ nguyenduytamanh@example2\\n.com\\n\\uf3c5 Th ủ  Đ ứ c, H ồ  Chí Minh\\nCÁC K Ỹ  N Ă NG\\nK Ĩ  N Ă NG CHUYÊN MÔN\\n•Thành th ạ o: HTML, CSS, \\nJavaScript, ReactJS, Redux \\nFramework: Next.js, Tailwind \\nCSS, Bootstrap\\n•Công c ụ : Git, Webpack, Figma\\n•Testing: Jest, Cypress \\nK Ĩ  N Ă NG M Ề M\\n•Giao ti ế p và làm vi ệ c nhóm hi ệ u \\nqu ả \\n•Qu ả n lý th ờ i gian t ố t\\n•K ỹ  n ă ng gi ả i quy ế t v ấ n đ ề  \\nTHÔNG TIN THÊM\\nM Ụ C TIÊU NGH Ề  NGHI Ệ P\\n- Phát tri ể n và đ óng góp trong l ĩ nh v ự c AI, đ ặ c bi ệ t là Machine Learning và NLP. - - - \\nH ư ớ ng đ ế n tr ở  thành AI Engineer chuyên nghi ệ p, t ố i ư u hóa các gi ả i pháp công ngh ệ  \\nph ụ c v ụ  doanh nghi ệ p và xã h ộ i. \\nKINH NGHI Ệ M LÀM VI Ệ C\\nTh ự c t ậ p sinh Front-End Developer 0 6 / 2 0 2 4 - 0 9 / 2 0 2 4 \\nCông ty XYZ \\n•Xây d ự ng giao di ệ n ng ư ờ i dùng cho h ệ  th ố ng qu ả n lý khách hàng (CRM) b ằ ng \\nReactJS và Tailwind CSS. \\n•T ố i ư u hi ệ u su ấ t trang web, gi ả m th ờ i gian t ả i xu ố ng d ư ớ i 3 giây.\\n•Ph ố i h ợ p v ớ i nhóm Backend đ ể  tích h ợ p API và đ ả m b ả o tính nh ấ t quán c ủ a \\nUI/UX. \\nC ộ ng tác viên Front-End 03/2023 - 05/2024 \\nT ậ p đ oàn ABC \\n•Thi ế t k ế  giao di ệ n th ư ơ ng m ạ i đ i ệ n t ử  v ớ i ReactJS và Redux.\\n•T ạ o mockup và prototype b ằ ng Figma đ ể  trình bày ý t ư ở ng v ớ i khách hàng.\\n•Tri ể n khai các tính n ă ng t ư ơ ng tác, c ả i thi ệ n tr ả i nghi ệ m ng ư ờ i dùng. \\nH Ọ C V Ấ N\\nKHOA H Ọ C MÁY TINH 9/2022 - Hi ệ n nay\\nTr ư ờ ng Đ ạ i h ọ c Công Ngh ệ  Thông Tin - Đ HQG HCM\\nGPA: 3.0/4\\nDANH HI Ệ U VÀ GI Ả I TH Ư Ở NG\\nHO Ạ T Đ Ộ NG\\n-\\nD Ự  ÁN\\nFront-End Developer \\nE-commerce Website 1 0 / 2 0 2 4 - 1 1 / 2 0 2 4 \\n \\nS ố  l ư ợ ng ng ư ờ i tham gia 5\\nReactJS, Redux, Tailwind CSS \\nXây d ự ng trang th ư ơ ng m ạ i đ i ệ n t ử , tích h ợ p thanh toán tr ự c tuy ế n và b ộ  l ọ c s ả n \\nph ẩ m thông minh. \\nV ị  trí\\nDeveloper và Designer \\nPortfolio cá nhân 2 / 2 0 2 4 - 4 / 2 0 2 4 \\n  \\nS ố  l ư ợ ng ng ư ờ i tham gia 3'),\n",
       " Document(metadata={'source': 'F:\\\\Năm 3 - HK1\\\\DoAnCS311\\\\data\\\\CVs\\\\5.pdf', 'page': 1}, page_content='HTML, CSS, JavaScript \\nThi ế t k ế  m ộ t portfolio gi ớ i thi ệ u các d ự  án cá nhân, t ố i ư u cho c ả  desktop và \\nmobile. \\n \\n \\n© topcv.vn')]"
      ]
     },
     "execution_count": 87,
     "metadata": {},
     "output_type": "execute_result"
    }
   ],
   "source": [
    "pages"
   ]
  },
  {
   "cell_type": "code",
   "execution_count": 88,
   "metadata": {},
   "outputs": [
    {
     "data": {
      "text/plain": [
       "{'contact': {'name': 'Nguyen Duy Tamanh',\n",
       "  'phone_number': '0935023456',\n",
       "  'email': 'nguyenduytamanh@example2.com',\n",
       "  'linkedin': '',\n",
       "  'location': 'Thủ Đức, Hồ Chí Minh'},\n",
       " 'programming_language': ['HTML', 'CSS', 'JavaScript'],\n",
       " 'language': [],\n",
       " 'tool': ['Git',\n",
       "  'Webpack',\n",
       "  'Figma',\n",
       "  'Jest',\n",
       "  'Cypress',\n",
       "  'Next.js',\n",
       "  'Tailwind CSS',\n",
       "  'Bootstrap'],\n",
       " 'soft_skills': ['Giao tiếp và làm việc nhóm hiệu quả',\n",
       "  'Quản lý thời gian tốt',\n",
       "  'Kỹ năng giải quyết vấn đề'],\n",
       " 'experience': [{'dates': {'start': {'day': 6, 'month': 2, 'year': 2024},\n",
       "    'end': {'day': 9, 'month': 2, 'year': 2024}},\n",
       "   'title': 'Thực tập sinh Front-End Developer',\n",
       "   'num_experience': 0.25,\n",
       "   'company': 'Công ty XYZ',\n",
       "   'skills': [{'name': 'ReactJS'}, {'name': 'Tailwind CSS'}],\n",
       "   'description': 'Xây dựng giao diện người dùng cho hệ thống quản lý khách hàng (CRM) bằng ReactJS và Tailwind CSS. Tối ưu hiệu suất trang web, giảm thời gian tải xuống dưới 3 giây. Phối hợp với nhóm Backend để tích hợp API và đảm bảo tính nhất quán của UI/UX.'},\n",
       "  {'dates': {'start': {'day': 3, 'month': 3, 'year': 2023},\n",
       "    'end': {'day': 5, 'month': 5, 'year': 2024}},\n",
       "   'title': 'Cộng tác viên Front-End',\n",
       "   'num_experience': 1.17,\n",
       "   'company': 'Tập đoàn ABC',\n",
       "   'skills': [{'name': 'ReactJS'}, {'name': 'Redux'}, {'name': 'Figma'}],\n",
       "   'description': 'Thiết kế giao diện thương mại điện tử với ReactJS và Redux. Tạo mockup và prototype bằng Figma để trình bày ý tưởng với khách hàng. Triển khai các tính năng tương tác, cải thiện trải nghiệm người dùng.'}],\n",
       " 'projects': [{'dates': {'start': {'day': 10, 'month': 2, 'year': 2024},\n",
       "    'end': {'day': 11, 'month': 2, 'year': 2024}},\n",
       "   'title': 'Front-End Developer',\n",
       "   'num_experience': 0.08,\n",
       "   'name_project': 'E-commerce Website',\n",
       "   'skills': [{'name': 'ReactJS'},\n",
       "    {'name': 'Redux'},\n",
       "    {'name': 'Tailwind CSS'}],\n",
       "   'description': 'Xây dựng trang thương mại điện tử, tích hợp thanh toán trực tuyến và bộ lọc sản phẩm thông minh.'},\n",
       "  {'dates': {'start': {'day': 2, 'month': 2, 'year': 2024},\n",
       "    'end': {'day': 4, 'month': 2, 'year': 2024}},\n",
       "   'title': 'Developer và Designer',\n",
       "   'num_experience': 0.08,\n",
       "   'name_project': 'Portfolio cá nhân',\n",
       "   'skills': [{'name': 'HTML'}, {'name': 'CSS'}, {'name': 'JavaScript'}],\n",
       "   'description': 'Thiết kế một portfolio giới thiệu các dự án cá nhân, tối ưu cho cả desktop và mobile.'}]}"
      ]
     },
     "execution_count": 88,
     "metadata": {},
     "output_type": "execute_result"
    }
   ],
   "source": [
    "\n",
    "chain.invoke({\"query\":text})"
   ]
  },
  {
   "cell_type": "code",
   "execution_count": 92,
   "metadata": {},
   "outputs": [
    {
     "name": "stdout",
     "output_type": "stream",
     "text": [
      "Result saved to output.csv\n"
     ]
    }
   ],
   "source": [
    "import pandas as pd\n",
    "\n",
    "# Gọi chuỗi chain.invoke và lưu kết quả\n",
    "result = chain.invoke({\"query\": text})\n",
    "\n",
    "# Chuyển kết quả thành một DataFrame (giả sử kết quả là một từ điển hoặc chuỗi)\n",
    "if isinstance(result, dict):\n",
    "    df = pd.DataFrame([result])  # Nếu là dict, chuyển đổi sang DataFrame\n",
    "elif isinstance(result, str):\n",
    "    df = pd.DataFrame([{\"response\": result}])  # Nếu là chuỗi, gói trong một cột 'response'\n",
    "else:\n",
    "    raise ValueError(\"Result format not supported\")\n",
    "\n",
    "# Lưu vào tệp CSV\n",
    "output_file = \"output.csv\"\n",
    "df.to_csv(output_file, index=False, encoding='utf-8')\n",
    "\n",
    "print(f\"Result saved to {output_file}\")\n"
   ]
  },
  {
   "cell_type": "code",
   "execution_count": 91,
   "metadata": {},
   "outputs": [
    {
     "data": {
      "text/plain": [
       "0    [{'dates': {'start': {'day': 6, 'month': 2, 'y...\n",
       "Name: experience, dtype: object"
      ]
     },
     "execution_count": 91,
     "metadata": {},
     "output_type": "execute_result"
    }
   ],
   "source": [
    "df['experience']"
   ]
  },
  {
   "cell_type": "code",
   "execution_count": null,
   "metadata": {},
   "outputs": [],
   "source": []
  }
 ],
 "metadata": {
  "kernelspec": {
   "display_name": "venv",
   "language": "python",
   "name": "python3"
  },
  "language_info": {
   "codemirror_mode": {
    "name": "ipython",
    "version": 3
   },
   "file_extension": ".py",
   "mimetype": "text/x-python",
   "name": "python",
   "nbconvert_exporter": "python",
   "pygments_lexer": "ipython3",
   "version": "3.11.9"
  }
 },
 "nbformat": 4,
 "nbformat_minor": 2
}
