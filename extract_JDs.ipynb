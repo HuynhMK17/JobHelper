{
 "cells": [
  {
   "cell_type": "code",
   "execution_count": 1,
   "metadata": {},
   "outputs": [],
   "source": [
    "from dotenv import load_dotenv\n",
    "from langchain_groq import ChatGroq\n",
    "import dotenv\n",
    "import os"
   ]
  },
  {
   "cell_type": "code",
   "execution_count": 2,
   "metadata": {},
   "outputs": [],
   "source": [
    "load_dotenv()\n",
    "LLAMA_3_API_KEY = os.getenv(\"LLAMA_3_API_KEY\")"
   ]
  },
  {
   "cell_type": "code",
   "execution_count": 3,
   "metadata": {},
   "outputs": [],
   "source": [
    "llm = ChatGroq(\n",
    "    temperature=0,\n",
    "    groq_api_key = LLAMA_3_API_KEY,\n",
    "    model_name = \"llama-3.1-70b-versatile\"\n",
    ")"
   ]
  },
  {
   "cell_type": "code",
   "execution_count": 4,
   "metadata": {},
   "outputs": [],
   "source": [
    "from pydantic import BaseModel, Field, field_validator\n",
    "from typing import List, Optional\n",
    "from datetime import date\n",
    "\n",
    "class JobDescription(BaseModel):\n",
    "    role: str = Field(..., description=\"Job title\")\n",
    "    experience: float = Field(..., description=\"Experience level required for the job\")\n",
    "    acceptable_majors: List[str] = Field(..., description=\"Acceptable majors for the job\")\n",
    "    skills: List[str] = Field(..., description=\"Skills required for the job\")"
   ]
  },
  {
   "cell_type": "code",
   "execution_count": 5,
   "metadata": {},
   "outputs": [],
   "source": [
    "page_data = '''\n",
    "Bằng Đại học / Thạc sĩ chuyên ngành Khoa học máy tính, Thống kê, Khoa học dữ liệu, AI, Học máy hoặc các lĩnh vực liên quan.\n",
    "Có ít nhất 4 - 5 năm kinh nghiệm làm việc trong lĩnh vực AI.\n",
    "Kinh nghiệm quản lý nhóm, đã từng lãnh đạo một nhóm gồm ít nhất 3 kỹ sư AI.\n",
    "Kinh nghiệm trong việc phát triển giải pháp AI, đặc biệt là ứng dụng Generative AI.\n",
    "Chuyên sâu về NLP, Computer Vision, Recommendation Systems.\n",
    "Kinh nghiệm tích hợp AI vào sản phẩm và dịch vụ, đảm bảo đáp ứng được nhu cầu kinh doanh.\n",
    "Kinh nghiệm xây dựng và mở rộng các sản phẩm / dịch vụ AI trong môi trường Production.\n",
    "Kinh nghiệm với các framework ML hiện đại (PyTorch, TensorFlow, Hugging Face...)\n",
    "Tư duy và tính sáng tạo để hiểu phát triển mô hình AI theo nhu cầu của tổ chức.\n",
    "Tiếng Anh thành thạo, sẵn sàng làm việc với đối tác.\n",
    "'''"
   ]
  },
  {
   "cell_type": "code",
   "execution_count": 6,
   "metadata": {},
   "outputs": [],
   "source": [
    "from langchain_core.output_parsers import JsonOutputParser\n",
    "from langchain_core.prompts import PromptTemplate\n",
    "\n",
    "# Set up a parser + inject instructions into the prompt template.\n",
    "parser = JsonOutputParser(pydantic_object=JobDescription)\n",
    "\n",
    "prompt = PromptTemplate(\n",
    "    template=\"\"\"        \n",
    "          ### SCRAPED TEXT FROM WEBSITE:\n",
    "          {page_data}\n",
    "          ### INSTRUCTION:\n",
    "          The scraped text is from the career's page of a website.\n",
    "          Your job is to extract the job postings and return them in JSON format.\n",
    "          Only return the valid JSON.\n",
    "          ### VALID JSON (NO PREAMBLE): \n",
    "          \\n{format_instructions}\\n\n",
    "     \"\"\",\n",
    "     input_variables=[\"query\"],\n",
    "     partial_variables={\"format_instructions\": parser.get_format_instructions()},\n",
    ")\n",
    "\n",
    "chain = prompt | llm | parser"
   ]
  },
  {
   "cell_type": "code",
   "execution_count": 7,
   "metadata": {},
   "outputs": [
    {
     "data": {
      "text/plain": [
       "{'role': 'Trưởng nhóm AI',\n",
       " 'experience': 4,\n",
       " 'acceptable_majors': ['Khoa học máy tính',\n",
       "  'Thống kê',\n",
       "  'Khoa học dữ liệu',\n",
       "  'AI',\n",
       "  'Học máy'],\n",
       " 'skills': ['Quản lý nhóm',\n",
       "  'Phát triển giải pháp AI',\n",
       "  'Generative AI',\n",
       "  'NLP',\n",
       "  'Computer Vision',\n",
       "  'Recommendation Systems',\n",
       "  'Tích hợp AI vào sản phẩm và dịch vụ',\n",
       "  'Xây dựng và mở rộng các sản phẩm / dịch vụ AI',\n",
       "  'PyTorch',\n",
       "  'TensorFlow',\n",
       "  'Hugging Face',\n",
       "  'Tiếng Anh']}"
      ]
     },
     "execution_count": 7,
     "metadata": {},
     "output_type": "execute_result"
    }
   ],
   "source": [
    "res = chain.invoke(input={'page_data':page_data})\n",
    "res"
   ]
  },
  {
   "cell_type": "code",
   "execution_count": null,
   "metadata": {},
   "outputs": [],
   "source": []
  }
 ],
 "metadata": {
  "kernelspec": {
   "display_name": "venv",
   "language": "python",
   "name": "python3"
  },
  "language_info": {
   "codemirror_mode": {
    "name": "ipython",
    "version": 3
   },
   "file_extension": ".py",
   "mimetype": "text/x-python",
   "name": "python",
   "nbconvert_exporter": "python",
   "pygments_lexer": "ipython3",
   "version": "3.11.9"
  }
 },
 "nbformat": 4,
 "nbformat_minor": 2
}
